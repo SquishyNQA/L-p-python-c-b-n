{
 "cells": [
  {
   "cell_type": "code",
   "execution_count": 7,
   "id": "71d26fee",
   "metadata": {},
   "outputs": [
    {
     "name": "stdout",
     "output_type": "stream",
     "text": [
      "False\n",
      "True\n",
      "False\n"
     ]
    }
   ],
   "source": [
    "#bai 1\n",
    "diem_toan = 8.5\n",
    "diem_ly = 8\n",
    "diem_hoa = 7\n",
    "average = (diem_toan + diem_ly + diem_hoa)/3\n",
    "gioi = average>=8\n",
    "kha = 6<= average<=8\n",
    "trung_binh = average <6\n",
    "print(gioi)\n",
    "print(kha)\n",
    "print(trung_binh)"
   ]
  },
  {
   "cell_type": "code",
   "execution_count": 14,
   "id": "7edebaec",
   "metadata": {},
   "outputs": [
    {
     "name": "stdout",
     "output_type": "stream",
     "text": [
      "True\n"
     ]
    }
   ],
   "source": [
    "#bai 2\n",
    "participation_percent= 81\n",
    "course_complete_percent = 90\n",
    "final_exam_mark = 8\n",
    "passes = True\n",
    "if participation_percent >75 and course_complete_percent >80 and final_exam_mark >=7.5:\n",
    "    passes = True\n",
    "else:\n",
    "    passes = False\n",
    "        \n",
    "print(passes)"
   ]
  },
  {
   "cell_type": "code",
   "execution_count": 13,
   "id": "1f8568ca",
   "metadata": {},
   "outputs": [
    {
     "name": "stdout",
     "output_type": "stream",
     "text": [
      "False\n"
     ]
    }
   ],
   "source": [
    "participation_percent= 10\n",
    "course_complete_percent = 90\n",
    "final_exam_mark = 8\n",
    "print(participation_percent >=75 and course_complete_percent >=80 and final_exam_mark >=7.5)"
   ]
  },
  {
   "cell_type": "code",
   "execution_count": 18,
   "id": "a7f34a00",
   "metadata": {},
   "outputs": [
    {
     "name": "stdout",
     "output_type": "stream",
     "text": [
      "39.6\n"
     ]
    }
   ],
   "source": [
    "# bài 3b\n",
    "velocity = 33\n",
    "min = 12\n",
    "hour = 1\n",
    "time = hour + min/60\n",
    "distance = velocity*time\n",
    "print(distance)"
   ]
  },
  {
   "cell_type": "code",
   "execution_count": 17,
   "id": "7903c81a",
   "metadata": {},
   "outputs": [
    {
     "name": "stdout",
     "output_type": "stream",
     "text": [
      "550.0\n"
     ]
    }
   ],
   "source": [
    "#bài 3a\n",
    "velocity = 33\n",
    "min = 60\n",
    "distance = velocity/min*1000\n",
    "print(distance)"
   ]
  },
  {
   "cell_type": "code",
   "execution_count": 24,
   "id": "50c36701",
   "metadata": {},
   "outputs": [
    {
     "name": "stdout",
     "output_type": "stream",
     "text": [
      "25.0\n"
     ]
    }
   ],
   "source": [
    "length =16\n",
    "width = 10\n",
    "area = length*width\n",
    "length_2 = 16+4\n",
    "area_2 = length_2 *width\n",
    "percent = (area_2/area -1)*100\n",
    "print(percent)"
   ]
  },
  {
   "cell_type": "code",
   "execution_count": null,
   "id": "1ace2735",
   "metadata": {},
   "outputs": [],
   "source": []
  }
 ],
 "metadata": {
  "kernelspec": {
   "display_name": "Python 3 (ipykernel)",
   "language": "python",
   "name": "python3"
  },
  "language_info": {
   "codemirror_mode": {
    "name": "ipython",
    "version": 3
   },
   "file_extension": ".py",
   "mimetype": "text/x-python",
   "name": "python",
   "nbconvert_exporter": "python",
   "pygments_lexer": "ipython3",
   "version": "3.11.1"
  }
 },
 "nbformat": 4,
 "nbformat_minor": 5
}
