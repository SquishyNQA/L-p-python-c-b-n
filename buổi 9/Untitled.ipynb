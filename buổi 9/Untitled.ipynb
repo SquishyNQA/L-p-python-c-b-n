{
 "cells": [
  {
   "cell_type": "code",
   "execution_count": 2,
   "id": "b21bc176",
   "metadata": {},
   "outputs": [
    {
     "name": "stdout",
     "output_type": "stream",
     "text": [
      "what is the number: 20\n",
      "400\n"
     ]
    }
   ],
   "source": [
    "number = int(input(\"what is the number: \"))\n",
    "result = number * number\n",
    "print(result)"
   ]
  },
  {
   "cell_type": "code",
   "execution_count": 4,
   "id": "a1f4e9e5",
   "metadata": {},
   "outputs": [
    {
     "name": "stdout",
     "output_type": "stream",
     "text": [
      "3\n"
     ]
    }
   ],
   "source": [
    "content = \"5028301\"\n",
    "number = int(content[4])\n",
    "print(number)"
   ]
  },
  {
   "cell_type": "code",
   "execution_count": 7,
   "id": "30e9da10",
   "metadata": {},
   "outputs": [
    {
     "name": "stdout",
     "output_type": "stream",
     "text": [
      "8.0\n",
      "9.5\n",
      "7.4\n",
      "the average is: 8.3\n"
     ]
    }
   ],
   "source": [
    "title = \"No.,Fullname,Math,Physics,Chemistry\"\n",
    "data = \"1,Nguyen Van A,8.0,9.5,7.4\"\n",
    "math = float(data[15:18])\n",
    "physics = float(data[19:22])\n",
    "chemistry = float(data[23:])\n",
    "average = round((math +physics + chemistry)/3,1)\n",
    "print(math)\n",
    "print(physics)\n",
    "print(chemistry)\n",
    "print(f\"the average is: {average}\")"
   ]
  },
  {
   "cell_type": "code",
   "execution_count": null,
   "id": "7db560f3",
   "metadata": {},
   "outputs": [],
   "source": []
  }
 ],
 "metadata": {
  "kernelspec": {
   "display_name": "Python 3 (ipykernel)",
   "language": "python",
   "name": "python3"
  },
  "language_info": {
   "codemirror_mode": {
    "name": "ipython",
    "version": 3
   },
   "file_extension": ".py",
   "mimetype": "text/x-python",
   "name": "python",
   "nbconvert_exporter": "python",
   "pygments_lexer": "ipython3",
   "version": "3.11.1"
  }
 },
 "nbformat": 4,
 "nbformat_minor": 5
}
