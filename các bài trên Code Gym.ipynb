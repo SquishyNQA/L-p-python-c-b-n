{
 "cells": [
  {
   "cell_type": "code",
   "execution_count": 1,
   "id": "9c2a0675",
   "metadata": {},
   "outputs": [
    {
     "name": "stdout",
     "output_type": "stream",
     "text": [
      "Hello world!\n"
     ]
    }
   ],
   "source": [
    "print(\"Hello world!\")"
   ]
  },
  {
   "cell_type": "code",
   "execution_count": 2,
   "id": "0fedcbb1",
   "metadata": {},
   "outputs": [
    {
     "name": "stdout",
     "output_type": "stream",
     "text": [
      "Give me a number: 10\n",
      "62.83185307179586\n",
      "314.1592653589793\n"
     ]
    }
   ],
   "source": [
    "import turtle\n",
    "import math\n",
    "r = int(input(\"Give me a number: \"))\n",
    "pen = turtle.Turtle()\n",
    "pen.circle(r)\n",
    "para = 2*r*math.pi\n",
    "area = (r**2)*math.pi\n",
    "print(para)\n",
    "print(area)\n",
    "turtle.done()"
   ]
  },
  {
   "cell_type": "code",
   "execution_count": 5,
   "id": "a413bd9a",
   "metadata": {},
   "outputs": [
    {
     "name": "stdout",
     "output_type": "stream",
     "text": [
      "Give me a color: orange\n",
      "Give me a number: 100\n",
      "Give me a number: 20\n",
      "240.0\n",
      "2000.0\n"
     ]
    }
   ],
   "source": [
    "import turtle\n",
    "color = input(\"Give me a color: \")\n",
    "w = float(input(\"Give me a number: \"))\n",
    "h = float(input(\"Give me a number: \"))\n",
    "pen = turtle.Turtle()\n",
    "pen.color(color)\n",
    "pen.begin_fill()\n",
    "for i in range(3):\n",
    "    pen.forward(w)\n",
    "    pen.right(90)\n",
    "    pen.forward(h)\n",
    "    pen.right(90)\n",
    "pen.end_fill()\n",
    "para = (w +h)*2\n",
    "area = w *h\n",
    "print(para)\n",
    "print(area)\n",
    "turtle.done()"
   ]
  },
  {
   "cell_type": "code",
   "execution_count": 9,
   "id": "9903fac4",
   "metadata": {},
   "outputs": [
    {
     "name": "stdout",
     "output_type": "stream",
     "text": [
      "How much money do you wish to exchange: 100\n",
      "Your money in VND: 2379500đ\n"
     ]
    }
   ],
   "source": [
    "USD = int(input(\"How much money do you wish to exchange: \"))\n",
    "rates = 23795\n",
    "VND = USD *rates\n",
    "print(f\"Your money in VND: {VND}đ\")"
   ]
  },
  {
   "cell_type": "code",
   "execution_count": null,
   "id": "e97ae0a6",
   "metadata": {},
   "outputs": [],
   "source": []
  }
 ],
 "metadata": {
  "kernelspec": {
   "display_name": "Python 3 (ipykernel)",
   "language": "python",
   "name": "python3"
  },
  "language_info": {
   "codemirror_mode": {
    "name": "ipython",
    "version": 3
   },
   "file_extension": ".py",
   "mimetype": "text/x-python",
   "name": "python",
   "nbconvert_exporter": "python",
   "pygments_lexer": "ipython3",
   "version": "3.11.1"
  }
 },
 "nbformat": 4,
 "nbformat_minor": 5
}
